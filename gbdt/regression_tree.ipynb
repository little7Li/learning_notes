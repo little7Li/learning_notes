{
 "cells": [
  {
   "cell_type": "markdown",
   "id": "6c7e09d2-63be-4011-ace9-3f09873a3084",
   "metadata": {},
   "source": [
    "回归树"
   ]
  },
  {
   "cell_type": "markdown",
   "id": "81c58fa2-f5b6-419f-9b56-d62e269898d7",
   "metadata": {},
   "source": [
    "数据\n",
    "\n",
    "|x|1|2|3|4|5|6|7|8|9|10\n",
    "|--|--|--|--|--|--|--|--|--|--|--|\n",
    "|y|4.50|4.75|4.91|5.34|5.80|7.05|7.90|8.23|8.70|9.00|"
   ]
  },
  {
   "cell_type": "markdown",
   "id": "1141911b-29f1-450f-8905-0b17e7029dfa",
   "metadata": {},
   "source": [
    "根据 x 的取值将数据划分为两组"
   ]
  },
  {
   "cell_type": "markdown",
   "id": "80ede6aa-6797-4ce5-9ea5-9bbeaf2f7821",
   "metadata": {},
   "source": [
    "例如划分点为 1.5，那么数据将被划分为两组，一组是 {1}, 另一组为 {2,3,4,...,10}"
   ]
  },
  {
   "cell_type": "markdown",
   "id": "2da2ec55-a2ab-4032-8819-809d1999580d",
   "metadata": {},
   "source": [
    "将每一组数据 y 的平均值作为这一组的预测值\n",
    "\n",
    "那么第一组的预测值为 4.50\n",
    "\n",
    "第二组预测值为 "
   ]
  },
  {
   "cell_type": "code",
   "execution_count": 2,
   "id": "4de61ff7-ebde-4b27-89ba-81170f196b41",
   "metadata": {},
   "outputs": [
    {
     "data": {
      "text/plain": [
       "6.8533333333333335"
      ]
     },
     "execution_count": 2,
     "metadata": {},
     "output_type": "execute_result"
    }
   ],
   "source": [
    "1/9 *(4.75+4.91+5.34+5.80+7.05+7.90+8.23+8.70+9.00)"
   ]
  },
  {
   "cell_type": "markdown",
   "id": "b0ce5961-598d-424c-984e-ec77a401065b",
   "metadata": {},
   "source": [
    "|x|1|2|3|4|5|6|7|8|9|10\n",
    "|--|--|--|--|--|--|--|--|--|--|--|\n",
    "|y|4.50|4.75|4.91|5.34|5.80|7.05|7.90|8.23|8.70|9.00|\n",
    "|预测值|4.50|6.85|6.85|6.85|6.85|6.85|6.85|6.85|6.85|6.85|"
   ]
  },
  {
   "cell_type": "markdown",
   "id": "866a670c-493b-4eee-8332-6fe305942ddd",
   "metadata": {},
   "source": [
    "然后计算一下均方误差：(y - 预测值)^2"
   ]
  },
  {
   "cell_type": "code",
   "execution_count": 5,
   "id": "5e3bdfd9-63d4-448e-89e0-dc4f004bb0c0",
   "metadata": {},
   "outputs": [],
   "source": [
    "import numpy as np"
   ]
  },
  {
   "cell_type": "code",
   "execution_count": 14,
   "id": "45470c71-63c8-4267-9f5a-97a61ec345cf",
   "metadata": {},
   "outputs": [],
   "source": [
    "x = np.arange(1,11)\n",
    "y = np.array([4.50,4.75,4.91,5.34,5.80,7.05,7.90,8.23,8.70,9.00])"
   ]
  },
  {
   "cell_type": "code",
   "execution_count": 21,
   "id": "edb90e97-121f-4357-adbd-cb3c71e868b4",
   "metadata": {},
   "outputs": [],
   "source": [
    "predict = np.array([4.50,6.85,6.85,6.85,6.85,6.85,6.85,6.85,6.85,6.85])"
   ]
  },
  {
   "cell_type": "code",
   "execution_count": 28,
   "id": "6a820d27-3f0c-452d-a98d-fa8661fc7d95",
   "metadata": {},
   "outputs": [
    {
     "data": {
      "text/plain": [
       "array([0.    , 4.41  , 3.7636, 2.2801, 1.1025, 0.04  , 1.1025, 1.9044,\n",
       "       3.4225, 4.6225])"
      ]
     },
     "execution_count": 28,
     "metadata": {},
     "output_type": "execute_result"
    }
   ],
   "source": [
    "(predict - y)**2"
   ]
  },
  {
   "cell_type": "markdown",
   "id": "e3692e4f-25eb-4bed-b37b-e3ea8aa6dd99",
   "metadata": {},
   "source": [
    "|x|1|2|3|4|5|6|7|8|9|10\n",
    "|--|--|--|--|--|--|--|--|--|--|--|\n",
    "|y|4.50|4.75|4.91|5.34|5.80|7.05|7.90|8.23|8.70|9.00|\n",
    "|预测值|4.50|6.85|6.85|6.85|6.85|6.85|6.85|6.85|6.85|6.85|\n",
    "|mse|0.    | 4.41  | 3.7636| 2.2801| 1.1025| 0.04  | 1.1025| 1.9044|3.4225| 4.6225"
   ]
  },
  {
   "cell_type": "markdown",
   "id": "63fe693b-22a4-4178-b0df-a6220f8744d1",
   "metadata": {},
   "source": [
    "对 mse 取一下和，作为这次划分的评价"
   ]
  },
  {
   "cell_type": "code",
   "execution_count": 45,
   "id": "28e28978-5550-442d-8b98-1a7f43945fab",
   "metadata": {},
   "outputs": [
    {
     "data": {
      "text/plain": [
       "17.702399999999997"
      ]
     },
     "execution_count": 45,
     "metadata": {},
     "output_type": "execute_result"
    }
   ],
   "source": [
    "sum((predict - y)**2)"
   ]
  },
  {
   "cell_type": "markdown",
   "id": "7867f44f-a0fb-4765-b443-666b07d549fe",
   "metadata": {},
   "source": [
    "即以 1.5 为划分点，预测误差为 22.6481"
   ]
  },
  {
   "cell_type": "markdown",
   "id": "c8f46ca7-e6de-474c-851a-4dbce8e1ca0f",
   "metadata": {},
   "source": [
    "接下来以 2.5 为划分点，重复以上步骤"
   ]
  },
  {
   "cell_type": "markdown",
   "id": "356d9ff3-ead8-4948-9c0f-1be55799321f",
   "metadata": {},
   "source": [
    "以2.5为划分点，数据被分为两组 {1,2}, {3,4,5,6,7,8,9,10}\n",
    "\n",
    "第一组的预测值："
   ]
  },
  {
   "cell_type": "code",
   "execution_count": 46,
   "id": "c87f5fa5-7885-4d06-b4ad-b6e7d8b50600",
   "metadata": {},
   "outputs": [
    {
     "data": {
      "text/plain": [
       "4.625"
      ]
     },
     "execution_count": 46,
     "metadata": {},
     "output_type": "execute_result"
    }
   ],
   "source": [
    "sum(y[:2])/2"
   ]
  },
  {
   "cell_type": "markdown",
   "id": "c8a77676-23d7-4aba-ba2f-0eb2fa2cd246",
   "metadata": {},
   "source": [
    "第二组的预测值："
   ]
  },
  {
   "cell_type": "code",
   "execution_count": 47,
   "id": "a3c50f62-f180-4e45-b6fc-4aca3bb7ab63",
   "metadata": {},
   "outputs": [
    {
     "data": {
      "text/plain": [
       "7.116250000000001"
      ]
     },
     "execution_count": 47,
     "metadata": {},
     "output_type": "execute_result"
    }
   ],
   "source": [
    "sum(y[2:])/8"
   ]
  },
  {
   "cell_type": "markdown",
   "id": "37e85705-3cb4-4b8c-8759-0219cc5f8c08",
   "metadata": {},
   "source": [
    "|x|1|2|3|4|5|6|7|8|9|10\n",
    "|--|--|--|--|--|--|--|--|--|--|--|\n",
    "|y|4.50|4.75|4.91|5.34|5.80|7.05|7.90|8.23|8.70|9.00|\n",
    "|预测值|4.63|4.63|7.12|7.12|7.12|7.12|7.12|7.12|7.12|7.12|\n",
    "|mse|0.    | 4.41  | 3.7636| 2.2801| 1.1025| 0.04  | 1.1025| 1.9044|3.4225| 4.6225"
   ]
  },
  {
   "cell_type": "code",
   "execution_count": 37,
   "id": "dfbf5c2e-d105-4aad-98b7-5c1203ad4a46",
   "metadata": {},
   "outputs": [
    {
     "data": {
      "text/plain": [
       "array([4.63, 4.63, 7.12, 7.12, 7.12, 7.12, 7.12, 7.12, 7.12, 7.12])"
      ]
     },
     "execution_count": 37,
     "metadata": {},
     "output_type": "execute_result"
    }
   ],
   "source": [
    "predict = np.array([4.63]*2 + [7.12]*8)\n",
    "predict"
   ]
  },
  {
   "cell_type": "markdown",
   "id": "6ee30709-cd46-4da9-a685-df641aa12eb6",
   "metadata": {},
   "source": [
    "计算一下 mse"
   ]
  },
  {
   "cell_type": "code",
   "execution_count": 38,
   "id": "080b8e27-6315-4679-b998-776aaa2e93e4",
   "metadata": {},
   "outputs": [
    {
     "data": {
      "text/plain": [
       "array([0.0169, 0.0144, 4.8841, 3.1684, 1.7424, 0.0049, 0.6084, 1.2321,\n",
       "       2.4964, 3.5344])"
      ]
     },
     "execution_count": 38,
     "metadata": {},
     "output_type": "execute_result"
    }
   ],
   "source": [
    "(predict - y)**2"
   ]
  },
  {
   "cell_type": "markdown",
   "id": "503222fd-7638-4df6-88fd-f46562762610",
   "metadata": {},
   "source": [
    "|x|1|2|3|4|5|6|7|8|9|10\n",
    "|--|--|--|--|--|--|--|--|--|--|--|\n",
    "|y|4.50|4.75|4.91|5.34|5.80|7.05|7.90|8.23|8.70|9.00|\n",
    "|预测值|4.63|4.63|7.12|7.12|7.12|7.12|7.12|7.12|7.12|7.12|\n",
    "|mse|0.0169| 0.0144| 4.8841| 3.1684| 1.7424| 0.0049| 0.6084| 1.2321|2.4964| 3.5344|3.4225| 4.6225"
   ]
  },
  {
   "cell_type": "markdown",
   "id": "82320c1e-8bca-4483-b018-baa2cd0a0aa6",
   "metadata": {},
   "source": [
    "那么以 2.5 为划分点的预测误差为："
   ]
  },
  {
   "cell_type": "code",
   "execution_count": 41,
   "id": "7d0a82b7-45a1-4ffc-8a36-d93aaf969e43",
   "metadata": {},
   "outputs": [
    {
     "data": {
      "text/plain": [
       "17.702399999999997"
      ]
     },
     "execution_count": 41,
     "metadata": {},
     "output_type": "execute_result"
    }
   ],
   "source": [
    "sum((predict - y)**2)"
   ]
  },
  {
   "cell_type": "markdown",
   "id": "a06b8b38-1689-479c-ac73-fe8d9c7a5735",
   "metadata": {},
   "source": [
    "接下来我们继续尝试以 2.5, 3.5, 4.5, ..., 9.5 为划分点，分别计算它们的预测误差"
   ]
  },
  {
   "cell_type": "markdown",
   "id": "318a8713-6073-485a-9cf5-f42c2db9bc1f",
   "metadata": {},
   "source": [
    "|划分点|1.5|2.5|3.5|4.5|5.5|6.5|7.5|8.5|9.5|\n",
    "|--|--|--|--|--|--|--|--|--|--|\n",
    "|预测误差|22.65| 17.70| 12.19| 7.38| 3.36| 5.07| 10.05| 15.18|21.33|"
   ]
  },
  {
   "cell_type": "markdown",
   "id": "27c3c66c-e5e4-4b0f-9237-d10a62e53941",
   "metadata": {},
   "source": [
    "当划分点为 5.5 时，预测误差最小，所以选择 5.5 为最优划分点"
   ]
  },
  {
   "cell_type": "markdown",
   "id": "983dc4ff-af0f-44a8-a7d9-b231100eaa56",
   "metadata": {},
   "source": [
    "以 5.5 为划分点将数据集分为两个部分\n",
    "{1,2,3,4,5} 和 {6,7,8,9,10}"
   ]
  },
  {
   "cell_type": "markdown",
   "id": "e4dd2fd4-5598-465a-b465-f91df2cd8e79",
   "metadata": {},
   "source": [
    "![avatar](test.png)"
   ]
  },
  {
   "cell_type": "markdown",
   "id": "b062c30e-0e26-42d8-aae4-d212c4a5827e",
   "metadata": {},
   "source": [
    "此时回归树的预测为：\n",
    "\n",
    "|x|1|2|3|4|5|6|7|8|9|10\n",
    "|--|--|--|--|--|--|--|--|--|--|--|\n",
    "|y|4.50|4.75|4.91|5.34|5.80|7.05|7.90|8.23|8.70|9.00|\n",
    "|预测值|5.06|5.06|5.06|5.06|5.06|8.17|8.17|8.17|8.17|8.17|"
   ]
  },
  {
   "cell_type": "code",
   "execution_count": 50,
   "id": "1d5feea0-6e93-4583-ba88-5fe81f8d5b90",
   "metadata": {},
   "outputs": [
    {
     "data": {
      "text/plain": [
       "8.175999999999998"
      ]
     },
     "execution_count": 50,
     "metadata": {},
     "output_type": "execute_result"
    }
   ],
   "source": []
  },
  {
   "cell_type": "markdown",
   "id": "265c110e-a5e0-4d29-94ba-febe780156c7",
   "metadata": {},
   "source": [
    "利用同样的方法分别对这两部分继续划分\n",
    "\n",
    "对第一个部分，可以选择的划分点有 1.5, 2.5, 3.5, 4.5"
   ]
  },
  {
   "cell_type": "markdown",
   "id": "a98fc35d-fa10-43d4-af34-279b468ed17a",
   "metadata": {},
   "source": [
    "|x|1|2|3|4|5\n",
    "|--|--|--|--|--|--|\n",
    "|y|4.50|4.75|4.91|5.34|5.80|"
   ]
  },
  {
   "cell_type": "markdown",
   "id": "fdb96033-99e0-40cc-8b6e-0b78cd85d117",
   "metadata": {},
   "source": [
    "分别计算分类误差"
   ]
  },
  {
   "cell_type": "markdown",
   "id": "59b20101-553f-4cbf-be79-74fb8afd0f8c",
   "metadata": {},
   "source": [
    "|划分点|1.5|2.5|3.5|4.5|\n",
    "|--|--|--|--|--|\n",
    "|预测误差|0.67| 0.43| 0.19| 0.37|"
   ]
  },
  {
   "cell_type": "markdown",
   "id": "78314b6e-86d6-4472-97a6-c50c4e87ba71",
   "metadata": {},
   "source": [
    "划分点为 3.5 时，误差最小，因此 {1,2,3,4,5} 被进一步的二分为 {1,2,3} 和 {4,5}"
   ]
  },
  {
   "cell_type": "markdown",
   "id": "ee5794ae-7c07-436d-abd4-2b65a5472534",
   "metadata": {},
   "source": [
    "![avatar](test1.png)"
   ]
  },
  {
   "cell_type": "markdown",
   "id": "ee4689aa-a940-419d-844f-96c1353309b7",
   "metadata": {},
   "source": [
    "|x|1|2|3|4|5|6|7|8|9|10\n",
    "|--|--|--|--|--|--|--|--|--|--|--|\n",
    "|y|4.50|4.75|4.91|5.34|5.80|7.05|7.90|8.23|8.70|9.00|\n",
    "|预测值|4.72|4.72|4.72|5.57|5.57|8.17|8.17|8.17|8.17|8.17|"
   ]
  },
  {
   "cell_type": "code",
   "execution_count": 55,
   "id": "918d1234-a732-4838-9aaa-0ad0147446ab",
   "metadata": {},
   "outputs": [
    {
     "data": {
      "text/plain": [
       "5.57"
      ]
     },
     "execution_count": 55,
     "metadata": {},
     "output_type": "execute_result"
    }
   ],
   "source": [
    "sum(y[3:5])/2"
   ]
  },
  {
   "cell_type": "markdown",
   "id": "bcf3ff73-347f-40c2-a091-25316a80d1e0",
   "metadata": {},
   "source": [
    "继续递归这个过程，最终生成一棵回归树"
   ]
  },
  {
   "cell_type": "code",
   "execution_count": null,
   "id": "4f2443d2-a4bb-4be0-a319-4b2aaf7b629f",
   "metadata": {},
   "outputs": [],
   "source": []
  }
 ],
 "metadata": {
  "kernelspec": {
   "display_name": "Python 3",
   "language": "python",
   "name": "python3"
  },
  "language_info": {
   "codemirror_mode": {
    "name": "ipython",
    "version": 3
   },
   "file_extension": ".py",
   "mimetype": "text/x-python",
   "name": "python",
   "nbconvert_exporter": "python",
   "pygments_lexer": "ipython3",
   "version": "3.8.0"
  }
 },
 "nbformat": 4,
 "nbformat_minor": 5
}

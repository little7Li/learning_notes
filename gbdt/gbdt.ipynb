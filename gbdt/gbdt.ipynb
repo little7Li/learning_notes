{
 "cells": [
  {
   "cell_type": "markdown",
   "id": "b738010a-ef94-4842-9d69-031bdebbd81a",
   "metadata": {},
   "source": [
    "GBDT\n",
    "\n",
    "数据\n",
    "\n",
    "|x|1|2|3|4|5|6|7|8|9|10\n",
    "|--|--|--|--|--|--|--|--|--|--|--|\n",
    "|y|4.50|4.75|4.91|5.34|5.80|7.05|7.90|8.23|8.70|9.00|"
   ]
  },
  {
   "cell_type": "markdown",
   "id": "7711d81c-7083-4642-bc35-e29c2ad309bb",
   "metadata": {},
   "source": [
    "我们以 5.5 为分割点，将数据集一分为二，并将各自的平均值作为其预测值\n",
    "\n",
    "![avatar](test.png)"
   ]
  },
  {
   "cell_type": "code",
   "execution_count": 3,
   "id": "80d8c333-b0a6-4b50-a8a9-f3c27cf51914",
   "metadata": {},
   "outputs": [],
   "source": [
    "import numpy as np\n",
    "x = np.arange(1,11)\n",
    "y = np.array([4.50,4.75,4.91,5.34,5.80,7.05,7.90,8.23,8.70,9.00])"
   ]
  },
  {
   "cell_type": "code",
   "execution_count": 5,
   "id": "523f1236-3bd8-4df4-b5ed-9f37ddeb94f9",
   "metadata": {},
   "outputs": [
    {
     "data": {
      "text/plain": [
       "5.0600000000000005"
      ]
     },
     "execution_count": 5,
     "metadata": {},
     "output_type": "execute_result"
    }
   ],
   "source": [
    "sum(y[:5])/5"
   ]
  },
  {
   "cell_type": "code",
   "execution_count": 6,
   "id": "1ff7967c-9b6b-4681-ba1e-56fe50f8fede",
   "metadata": {},
   "outputs": [
    {
     "data": {
      "text/plain": [
       "8.175999999999998"
      ]
     },
     "execution_count": 6,
     "metadata": {},
     "output_type": "execute_result"
    }
   ],
   "source": [
    "sum(y[5:])/5"
   ]
  },
  {
   "cell_type": "markdown",
   "id": "6fadb0db-552f-47c1-82b7-71f8564d8777",
   "metadata": {},
   "source": [
    "|x|1|2|3|4|5|6|7|8|9|10\n",
    "|--|--|--|--|--|--|--|--|--|--|--|\n",
    "|y|4.50|4.75|4.91|5.34|5.80|7.05|7.90|8.23|8.70|9.00|\n",
    "|预测值|5.06|5.06|5.06|5.06|5.06|8.18|8.18|8.18|8.18|8.18|"
   ]
  },
  {
   "cell_type": "markdown",
   "id": "43a95ff0-250f-4ea9-840e-6ee37468eb8c",
   "metadata": {},
   "source": [
    "与上节中以均方误差衡量预测效果不同，这里我们计算预测的残差"
   ]
  },
  {
   "cell_type": "code",
   "execution_count": 13,
   "id": "a0ae69e7-40ec-4d23-8477-91da20bb7bb5",
   "metadata": {},
   "outputs": [
    {
     "data": {
      "text/plain": [
       "array([-0.56, -0.31, -0.15,  0.28,  0.74, -1.13, -0.28,  0.05,  0.52,\n",
       "        0.82])"
      ]
     },
     "execution_count": 13,
     "metadata": {},
     "output_type": "execute_result"
    }
   ],
   "source": [
    "predict = np.array([5.06]*5+[8.18]*5)\n",
    "diff = y - predict\n",
    "diff"
   ]
  },
  {
   "cell_type": "markdown",
   "id": "8e499b25-7d48-4430-a86f-33211c9f3e55",
   "metadata": {},
   "source": [
    "|x|1|2|3|4|5|6|7|8|9|10\n",
    "|--|--|--|--|--|--|--|--|--|--|--|\n",
    "|y|4.50|4.75|4.91|5.34|5.80|7.05|7.90|8.23|8.70|9.00|\n",
    "|预测值|5.06|5.06|5.06|5.06|5.06|8.18|8.18|8.18|8.18|8.18|\n",
    "|残差|-0.56| -0.31| -0.15|  0.28|  0.74| -1.13| -0.28|  0.05|  0.52| 0.82"
   ]
  },
  {
   "cell_type": "markdown",
   "id": "9f7e2988-ef4f-433d-8f72-524bc0f7ded1",
   "metadata": {},
   "source": [
    "GBDT 的下一步就是用一棵新的回归树来对上一步的残差进行预测，此时的数据集变成了：\n",
    "\n",
    "|x|1|2|3|4|5|6|7|8|9|10\n",
    "|--|--|--|--|--|--|--|--|--|--|--|\n",
    "|残差|-0.56| -0.31| -0.15|  0.28|  0.74| -1.13| -0.28|  0.05|  0.52| 0.82\n"
   ]
  },
  {
   "cell_type": "markdown",
   "id": "4c6cf9af-a5b0-466d-82b1-078cd4acb689",
   "metadata": {},
   "source": [
    "构建回归树的方法与此前完全相同：\n",
    "首先选择 1.5 为划分点：\n",
    "\n",
    "|x|1|2|3|4|5|6|7|8|9|10\n",
    "|--|--|--|--|--|--|--|--|--|--|--|\n",
    "|残差|-0.56| -0.31| -0.15|  0.28|  0.74| -1.13| -0.28|  0.05|  0.52| 0.82\n",
    "|残差预测值|-0.56|0.06|0.06|0.06|0.06|0.06|0.06|0.06|0.06|0.06|"
   ]
  },
  {
   "cell_type": "code",
   "execution_count": 12,
   "id": "b77c5a2b-ae7b-4a91-afb4-7002dd5e42a5",
   "metadata": {},
   "outputs": [
    {
     "data": {
      "text/plain": [
       "array([-0.56,  0.06,  0.06,  0.06,  0.06,  0.06,  0.06,  0.06,  0.06,\n",
       "        0.06])"
      ]
     },
     "execution_count": 12,
     "metadata": {},
     "output_type": "execute_result"
    }
   ],
   "source": [
    "predict_2 = np.array([-0.56]+[0.06]*9)\n",
    "predict_2"
   ]
  },
  {
   "cell_type": "markdown",
   "id": "cb6f9d1b-ec7b-4c7e-b84d-9c3613f07dcf",
   "metadata": {},
   "source": [
    "计算一下以 1.5 为划分点的 mse"
   ]
  },
  {
   "cell_type": "code",
   "execution_count": 15,
   "id": "9bca3598-1d47-4526-af4d-815298d6bb73",
   "metadata": {},
   "outputs": [
    {
     "data": {
      "text/plain": [
       "3.0127999999999995"
      ]
     },
     "execution_count": 15,
     "metadata": {},
     "output_type": "execute_result"
    }
   ],
   "source": [
    "sum(((diff-predict_2))**2)"
   ]
  },
  {
   "cell_type": "markdown",
   "id": "d857226e-5ebf-4198-9e0e-9fd209595475",
   "metadata": {},
   "source": [
    "同样地，我们继续计算以 2.5, 3.5, ..., 9.5 为划分点时的预测 mse"
   ]
  },
  {
   "cell_type": "markdown",
   "id": "cbe84f7e-6644-4c61-beec-b115e70520e9",
   "metadata": {},
   "source": [
    "|划分点|1.5|2.5|3.5|4.5|5.5|6.5|7.5|8.5|9.5|\n",
    "|--|--|--|--|--|--|--|--|--|--|\n",
    "|mse|3.01| ...|2.87|"
   ]
  },
  {
   "cell_type": "markdown",
   "id": "f5af4655-bf60-4d4e-8d6e-874e8510f67f",
   "metadata": {},
   "source": [
    "经过计算我们发现以 3.5 为划分点时，预测 mse 最小\n",
    "\n",
    "|x|1|2|3|4|5|6|7|8|9|10\n",
    "|--|--|--|--|--|--|--|--|--|--|--|\n",
    "|残差|-0.56| -0.31| -0.15|  0.28|  0.74| -1.13| -0.28|  0.05|  0.52| 0.82\n",
    "|残差预测值|-0.34|-0.34|-0.34|0.14|0.14|0.14|0.14|0.14|0.14|0.14|"
   ]
  },
  {
   "cell_type": "markdown",
   "id": "52fa4226-949c-4999-b5e4-080650343143",
   "metadata": {},
   "source": [
    "此时我们得到了第二颗树"
   ]
  },
  {
   "cell_type": "markdown",
   "id": "bc986bac-5c7e-4e7d-afb9-02ebd5d6834e",
   "metadata": {},
   "source": [
    "![avatar](gbdt.png)"
   ]
  },
  {
   "cell_type": "markdown",
   "id": "2e8559e3-651b-4eff-a349-6f7ada2c10fd",
   "metadata": {},
   "source": [
    "现在我们就得到了一个包含有两颗树的 GBDT 模型，它的预测值为第一颗树的预测值和第二颗树的预测值的和"
   ]
  },
  {
   "cell_type": "code",
   "execution_count": 28,
   "id": "778327dd-8b97-4d59-bd65-76dd7dcf8e49",
   "metadata": {},
   "outputs": [
    {
     "data": {
      "text/plain": [
       "array([4.72, 4.72, 4.72, 5.2 , 5.2 , 8.32, 8.32, 8.32, 8.32, 8.32])"
      ]
     },
     "execution_count": 28,
     "metadata": {},
     "output_type": "execute_result"
    }
   ],
   "source": [
    "cur_predict = predict + predict_2\n",
    "cur_predict"
   ]
  },
  {
   "cell_type": "markdown",
   "id": "3439c5ff-c968-4b27-854a-d54f9f417073",
   "metadata": {},
   "source": [
    "|x|1|2|3|4|5|6|7|8|9|10\n",
    "|--|--|--|--|--|--|--|--|--|--|--|\n",
    "|y|4.50|4.75|4.91|5.34|5.80|7.05|7.90|8.23|8.70|9.00|\n",
    "|预测值|4.72| 4.72| 4.72| 5.2 | 5.2 | 8.32| 8.32| 8.32| 8.32| 8.32\n"
   ]
  },
  {
   "cell_type": "markdown",
   "id": "c1889e7c-b715-4e05-af18-7cfd5072f875",
   "metadata": {},
   "source": [
    "计算一下此时的预测的 mse"
   ]
  },
  {
   "cell_type": "code",
   "execution_count": 30,
   "id": "33120510-f088-4c29-b398-d88b48aad901",
   "metadata": {},
   "outputs": [
    {
     "data": {
      "text/plain": [
       "2.8692000000000006"
      ]
     },
     "execution_count": 30,
     "metadata": {},
     "output_type": "execute_result"
    }
   ],
   "source": [
    "sum((y-cur_predict)**2)"
   ]
  },
  {
   "cell_type": "markdown",
   "id": "ab1f85fb-71ab-41f2-ab63-5acc59030c64",
   "metadata": {},
   "source": [
    "如果此时 mse 已低于要求的精度，那么就可以任务由这两棵树构成的 GBDT 已满足要求，即可停止迭代。\n",
    "\n",
    "否则，计算此时预测的残差，作为第三棵树的拟合目标"
   ]
  },
  {
   "cell_type": "code",
   "execution_count": 32,
   "id": "146b9b3d-23fa-4967-8220-e6987c816731",
   "metadata": {},
   "outputs": [
    {
     "data": {
      "text/plain": [
       "array([-0.22,  0.03,  0.19,  0.14,  0.6 , -1.27, -0.42, -0.09,  0.38,\n",
       "        0.68])"
      ]
     },
     "execution_count": 32,
     "metadata": {},
     "output_type": "execute_result"
    }
   ],
   "source": [
    "y-cur_predict"
   ]
  },
  {
   "cell_type": "markdown",
   "id": "520cad39-781e-4fbf-a4a9-bc14e53a3c02",
   "metadata": {},
   "source": [
    "第三棵树的拟合目标\n",
    "\n",
    "|x|1|2|3|4|5|6|7|8|9|10\n",
    "|--|--|--|--|--|--|--|--|--|--|--|\n",
    "|残差|-0.22|  0.03|  0.19|  0.14|  0.6 | -1.27| -0.42| -0.09|  0.38|0.68"
   ]
  },
  {
   "cell_type": "markdown",
   "id": "ecfaafd9-ab1b-4302-9c66-0767ad9a126b",
   "metadata": {},
   "source": [
    "继续生成第三棵树即可。"
   ]
  }
 ],
 "metadata": {
  "kernelspec": {
   "display_name": "Python 3",
   "language": "python",
   "name": "python3"
  },
  "language_info": {
   "codemirror_mode": {
    "name": "ipython",
    "version": 3
   },
   "file_extension": ".py",
   "mimetype": "text/x-python",
   "name": "python",
   "nbconvert_exporter": "python",
   "pygments_lexer": "ipython3",
   "version": "3.8.0"
  }
 },
 "nbformat": 4,
 "nbformat_minor": 5
}
